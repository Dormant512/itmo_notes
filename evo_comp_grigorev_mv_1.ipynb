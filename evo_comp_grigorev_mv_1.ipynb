{
  "cells": [
    {
      "cell_type": "markdown",
      "source": [
        "# EvoComp, lab 1\n",
        "*Grigorev Mikhail J4233c*"
      ],
      "metadata": {
        "id": "KzGcZQYWhezL"
      }
    },
    {
      "cell_type": "markdown",
      "source": [
        "Dependencies:"
      ],
      "metadata": {
        "id": "nTA5t6o1s-R0"
      }
    },
    {
      "cell_type": "code",
      "source": [
        "%pip install deap"
      ],
      "execution_count": 1,
      "outputs": [
        {
          "output_type": "stream",
          "name": "stdout",
          "text": [
            "Collecting deap\n",
            "  Downloading deap-1.4.1-cp310-cp310-manylinux_2_5_x86_64.manylinux1_x86_64.manylinux_2_17_x86_64.manylinux2014_x86_64.whl (135 kB)\n",
            "\u001b[2K     \u001b[90m━━━━━━━━━━━━━━━━━━━━━━━━━━━━━━━━━━━━━━━━\u001b[0m \u001b[32m135.4/135.4 kB\u001b[0m \u001b[31m1.3 MB/s\u001b[0m eta \u001b[36m0:00:00\u001b[0m\n",
            "\u001b[?25hRequirement already satisfied: numpy in /usr/local/lib/python3.10/dist-packages (from deap) (1.23.5)\n",
            "Installing collected packages: deap\n",
            "Successfully installed deap-1.4.1\n"
          ]
        }
      ],
      "metadata": {
        "datalore": {
          "node_id": "xKcugeFPNS0O79asRpcJkQ",
          "type": "CODE",
          "hide_input_from_viewers": false,
          "hide_output_from_viewers": false,
          "report_properties": {
            "rowId": "fHXCirpm7HUhRmoIuL9iLb"
          }
        },
        "colab": {
          "base_uri": "https://localhost:8080/"
        },
        "id": "2c-P9LO0g-tL",
        "outputId": "b547ec1f-7c9f-47c3-c1a4-0e022009479a"
      }
    },
    {
      "cell_type": "markdown",
      "source": [
        "Goal: to train an evolutionary algorithm to solve the classic optimization function. The function is **Rastrigin** function, but reversed and shifted.\n",
        "\n",
        "> The maximum achieved value is 10, so the closer the end result to 10 - the better!\n",
        "\n"
      ],
      "metadata": {
        "datalore": {
          "node_id": "rRpbH3HisFNDUGyq2dYBT2",
          "type": "MD",
          "hide_input_from_viewers": false,
          "hide_output_from_viewers": false,
          "report_properties": {
            "rowId": "P6FS6vWBQRseC7gnMjd1Hu"
          }
        },
        "id": "FIjpocAqg-tQ"
      }
    },
    {
      "cell_type": "markdown",
      "source": [
        "## Seminar Example"
      ],
      "metadata": {
        "datalore": {
          "node_id": "qmz2WjeXhkzxts25PTFY1k",
          "type": "MD",
          "hide_input_from_viewers": true,
          "hide_output_from_viewers": true
        },
        "id": "dXsIGE7vg-tS"
      }
    },
    {
      "cell_type": "code",
      "source": [
        "import math\n",
        "from multiprocessing import Pool\n",
        "\n",
        "import numpy as np\n",
        "import numpy.random as rnd\n",
        "\n",
        "import deap\n",
        "from deap import tools, base, creator, algorithms\n",
        "\n",
        "import matplotlib.pyplot as plt"
      ],
      "execution_count": 2,
      "outputs": [],
      "metadata": {
        "datalore": {
          "node_id": "ldPvyzyspqVbfoZ4BPFWeY",
          "type": "CODE",
          "hide_input_from_viewers": false,
          "hide_output_from_viewers": false,
          "report_properties": {
            "rowId": "JoM0jrJjDUZXMgYh9hT3Y2"
          }
        },
        "id": "IkeqiyBLg-tT"
      }
    },
    {
      "cell_type": "code",
      "source": [
        "noise = rnd.random(1000)\n",
        "\n",
        "def rastrigin(individual):\n",
        "    \"\"\"Shifted Rastrigin function\"\"\"\n",
        "    individual = individual + noise[0:len(individual)]\n",
        "    n = len(individual)\n",
        "\n",
        "    pi = math.pi\n",
        "    dn = 1.0 / n\n",
        "    a = 10.0\n",
        "    b = 0.2\n",
        "    c = 2 * pi\n",
        "    s1 = 0.0\n",
        "    s2 = 0.0\n",
        "    for i in range(n):\n",
        "        s1 += individual[i] * individual[i]\n",
        "        s2 += np.cos(c*individual[i])\n",
        "    s1 = -a * math.exp(-b*math.sqrt(dn*s1))\n",
        "    s2 = -math.exp(dn*s2)\n",
        "    result = s1+s2 + a + math.exp(1)\n",
        "    result = -result\n",
        "    result = result + a\n",
        "    result = math.fabs(result)\n",
        "    return result"
      ],
      "execution_count": 3,
      "outputs": [],
      "metadata": {
        "datalore": {
          "node_id": "a9nbVxCJVtUNwSBlT5oaE2",
          "type": "CODE",
          "hide_input_from_viewers": false,
          "hide_output_from_viewers": false,
          "report_properties": {
            "rowId": "Kmnj8enyuo3shc2OA8xt7C"
          }
        },
        "id": "bbzMERGzg-tU"
      }
    },
    {
      "cell_type": "code",
      "source": [
        "noise.max()"
      ],
      "execution_count": 4,
      "outputs": [
        {
          "output_type": "execute_result",
          "data": {
            "text/plain": [
              "0.999271948150876"
            ]
          },
          "metadata": {},
          "execution_count": 4
        }
      ],
      "metadata": {
        "datalore": {
          "node_id": "xqr5ctkjMIaj66420BcEGK",
          "type": "CODE",
          "hide_input_from_viewers": true,
          "hide_output_from_viewers": true
        },
        "colab": {
          "base_uri": "https://localhost:8080/"
        },
        "id": "9PF2mvk8g-tU",
        "outputId": "9f3c075a-dbb5-4494-b600-26c63358469d"
      }
    },
    {
      "cell_type": "code",
      "source": [
        "solution = [0] * 20\n",
        "rastrigin(solution)"
      ],
      "execution_count": 5,
      "outputs": [
        {
          "output_type": "execute_result",
          "data": {
            "text/plain": [
              "7.205753233891501"
            ]
          },
          "metadata": {},
          "execution_count": 5
        }
      ],
      "metadata": {
        "datalore": {
          "node_id": "3dD1vvK2W740drQ1uZqFt9",
          "type": "CODE",
          "hide_input_from_viewers": false,
          "hide_output_from_viewers": false,
          "report_properties": {
            "rowId": "pylcNM3QCTgyZ7coJq9HqL"
          }
        },
        "colab": {
          "base_uri": "https://localhost:8080/"
        },
        "id": "ANWBxZGdg-tV",
        "outputId": "1386b3d6-5911-4b4d-f80f-1556b921b3ed"
      }
    },
    {
      "cell_type": "code",
      "source": [
        "creator.create(\"BaseFitness\", base.Fitness, weights=(1.0,))\n",
        "creator.create(\"Individual\", np.ndarray, fitness=creator.BaseFitness)"
      ],
      "execution_count": 7,
      "outputs": [],
      "metadata": {
        "datalore": {
          "node_id": "NtdXZs0rHSHPwVrSFT875w",
          "type": "CODE",
          "hide_input_from_viewers": false,
          "hide_output_from_viewers": false,
          "report_properties": {
            "rowId": "me3jePMfUbup7Rz67RNNGc"
          }
        },
        "id": "s-2fWv5Sg-tW"
      }
    },
    {
      "cell_type": "code",
      "source": [
        "def mutation(individual):\n",
        "    n = len(individual)\n",
        "    for i in range(n):\n",
        "        if rnd.random() < n * 0.15:\n",
        "            individual[i] += rnd.normal(0.0, 0.2)\n",
        "            individual[i] = np.clip(individual[i], -5, 5)\n",
        "    return individual,"
      ],
      "execution_count": 8,
      "outputs": [],
      "metadata": {
        "datalore": {
          "node_id": "UYHO1AbEzN2qOAOBhqttkd",
          "type": "CODE",
          "hide_input_from_viewers": false,
          "hide_output_from_viewers": false,
          "report_properties": {
            "rowId": "fogQ8CwAKNAUVeqobqQpnT"
          }
        },
        "id": "QRdxdNPAg-tX"
      }
    },
    {
      "cell_type": "code",
      "source": [
        "class SimpleGAExperiment:\n",
        "    def factory(self):\n",
        "        \"\"\"Returns random array in the half-open interval [-5, 5)\"\"\"\n",
        "        return rnd.random(self.dimension) * 10 - 5\n",
        "\n",
        "    def __init__(self, function, dimension, pop_size, iterations):\n",
        "        self.pop_size = pop_size\n",
        "        self.iterations = iterations\n",
        "        self.mut_prob = 0.6\n",
        "        self.cross_prob = 0.3\n",
        "\n",
        "        self.function = function\n",
        "        self.dimension = dimension\n",
        "\n",
        "        self.engine = base.Toolbox()\n",
        "        self.engine.register(\"map\", map)\n",
        "        self.engine.register(\"individual\", tools.initIterate,\n",
        "                             creator.Individual, self.factory)\n",
        "        self.engine.register(\"population\", tools.initRepeat, list,\n",
        "                             self.engine.individual, self.pop_size)\n",
        "\n",
        "        self.engine.register(\"mate\", tools.cxOnePoint)\n",
        "        self.engine.register(\"mutate\", tools.mutGaussian,\n",
        "                             mu=0, sigma=0.5, indpb=0.2)\n",
        "        self.engine.register(\"select\", tools.selTournament, tournsize=4)\n",
        "        self.engine.register(\"evaluate\", self.function)\n",
        "\n",
        "\n",
        "    def run(self):\n",
        "        pop = self.engine.population()\n",
        "        hof = tools.HallOfFame(3, np.array_equal)\n",
        "        stats = tools.Statistics(lambda ind: ind.fitness.values[0])\n",
        "        stats.register(\"avg\", np.mean)\n",
        "        stats.register(\"std\", np.std)\n",
        "        stats.register(\"min\", np.min)\n",
        "        stats.register(\"max\", np.max)\n",
        "\n",
        "        pop, log = algorithms.eaMuPlusLambda(pop, self.engine, mu=self.pop_size,\n",
        "                                             lambda_=int(self.pop_size*0.8),\n",
        "                                             cxpb=self.cross_prob,\n",
        "                                             mutpb=self.mut_prob,\n",
        "                                             ngen=self.iterations,\n",
        "                                             stats=stats, halloffame=hof,\n",
        "                                             verbose=False)\n",
        "        print(\"Best = {}\".format(hof[0]))\n",
        "        print(\"Best fit = {}\".format(hof[0].fitness.values[0]))\n",
        "        return log"
      ],
      "execution_count": 14,
      "outputs": [],
      "metadata": {
        "datalore": {
          "node_id": "nsUyuwxuTziGFaKSXQgx0T",
          "type": "CODE",
          "hide_input_from_viewers": false,
          "hide_output_from_viewers": false,
          "report_properties": {
            "rowId": "OXYVQxwANrUm9mVlXvXDSh"
          }
        },
        "id": "rFeqf7J0g-tX"
      }
    },
    {
      "cell_type": "code",
      "source": [
        "def function(x):\n",
        "    res = rastrigin(x)\n",
        "    return res,\n",
        "\n",
        "dimension = 100\n",
        "pop_size = 100\n",
        "iterations = 5000\n",
        "scenario = SimpleGAExperiment(function, dimension, pop_size, iterations)"
      ],
      "execution_count": 15,
      "outputs": [],
      "metadata": {
        "datalore": {
          "node_id": "8HohsHHTXyJBOsfuUUnTGD",
          "type": "CODE",
          "hide_input_from_viewers": false,
          "hide_output_from_viewers": false,
          "report_properties": {
            "rowId": "PWYNtZdWO0aimGgkchIA2V"
          }
        },
        "id": "9slkKRYzg-tX"
      }
    },
    {
      "cell_type": "code",
      "source": [
        "def read_log(log):\n",
        "    avg_list = list()\n",
        "    std_list = list()\n",
        "    min_list = list()\n",
        "    max_list = list()\n",
        "    gen_list = list()\n",
        "    for g in log:\n",
        "        avg_list.append(g['avg'])\n",
        "        std_list.append(g['std'])\n",
        "        min_list.append(g['min'])\n",
        "        max_list.append(g['max'])\n",
        "        gen_list.append(g['gen'])\n",
        "    return (np.array(gen_list), np.array(avg_list),\n",
        "            np.array(std_list), np.array(max_list), np.array(min_list))\n",
        "\n",
        "def draw_log(log):\n",
        "    c_u, c_r, c_b = \"cornflowerblue\", \"indianred\", \"black\"\n",
        "    gen_list, avg_list, std_list, max_list, min_list = read_log(log)\n",
        "    plt.plot(gen_list, avg_list, label=\"avg\", color=c_b, linewidth=1)\n",
        "    plt.plot(gen_list, min_list, label=\"min\", color=c_r, linewidth=1, alpha=0.3)\n",
        "    plt.plot(gen_list, max_list, label=\"max\", color=c_u, linewidth=1, alpha=0.3)\n",
        "    plt.fill_between(gen_list, avg_list-std_list, avg_list+std_list, alpha=0.5)\n",
        "    plt.legend()\n",
        "    plt.show()"
      ],
      "execution_count": 41,
      "outputs": [],
      "metadata": {
        "datalore": {
          "node_id": "Q719Ast6OsyDaUpiSfyQLr",
          "type": "CODE",
          "hide_input_from_viewers": false,
          "hide_output_from_viewers": false,
          "report_properties": {
            "rowId": "MKfyVaVaczpO4PoHBqb40N"
          }
        },
        "id": "Q_uZEptqg-tY"
      }
    },
    {
      "cell_type": "code",
      "source": [
        "log = scenario.run()\n",
        "draw_log(log)"
      ],
      "execution_count": 42,
      "outputs": [
        {
          "output_type": "stream",
          "name": "stdout",
          "text": [
            "Best = [ 6.35279483e-01  7.05332552e-02  1.68974463e+00 -5.00566930e-01\n",
            " -1.38633891e+00  8.53210254e-01 -3.00149313e+00  2.67248104e+00\n",
            " -1.73689184e+00  9.88183610e-01  1.51739697e+00 -1.72329313e-01\n",
            "  1.63106347e+00  1.36967301e+00  2.98720155e-01 -4.16977621e+00\n",
            "  1.24528350e+00  7.02272615e-01 -1.59369290e+00 -1.03986666e-01\n",
            "  6.27766209e-01  5.10432523e-01 -2.08338665e+00  6.96301235e-01\n",
            "  1.55557149e+00 -1.25458288e+00 -3.55110793e+00  6.78449796e-01\n",
            " -2.49847961e+00 -1.67170582e+00  3.72224669e+00 -2.02494006e+00\n",
            " -2.19690884e+00 -1.06327371e-01 -4.10391339e+00  1.81039907e+00\n",
            "  1.55474342e+00 -2.07874101e+00  6.11791655e-01 -3.36308910e+00\n",
            " -1.78155549e+00 -1.48376685e-01  6.24715792e-01 -1.92107025e+00\n",
            " -5.83361393e-01  7.78115300e-03  9.33607602e-01  7.71612018e-01\n",
            "  3.25422508e+00 -4.83247764e+00  7.77698855e-01  2.54542238e+00\n",
            " -1.35142311e+00 -4.92540549e-01  1.47050709e+00 -1.38254483e+00\n",
            " -2.77074753e+00 -3.68862986e-01  8.77595037e-01 -3.10247170e+00\n",
            " -2.23402127e+00  3.54872156e-01  1.87471011e-01 -4.71204035e+00\n",
            " -1.24842218e-01 -1.33672464e+00  2.05551086e+00  2.03989567e+00\n",
            " -5.90087734e-01 -2.63811051e+00 -1.11669842e+00  5.57757226e-01\n",
            " -2.78055437e+00  3.29021146e-01 -3.99288236e+00  3.10700144e-01\n",
            "  7.73279548e-01 -1.52358952e+00  2.16369204e+00 -6.53463646e-01\n",
            " -2.30071020e+00  1.04349502e+00 -2.84890731e+00  2.48055655e-01\n",
            "  5.78262929e-02 -9.92836351e-01  3.06263863e+00 -1.19120201e+00\n",
            " -1.72812338e+00 -1.70503799e+00 -2.24463236e+00 -1.15679949e-01\n",
            " -3.69010911e+00  1.46038074e+00 -2.00174382e+00 -5.37437852e-01\n",
            "  1.25585218e+00 -1.88644153e+00 -1.95796301e+00 -4.02604391e-03]\n",
            "Best fit = 6.5364181834329464\n"
          ]
        },
        {
          "output_type": "display_data",
          "data": {
            "text/plain": [
              "<Figure size 640x480 with 1 Axes>"
            ],
            "image/png": "[encoded data removed]"
          },
          "metadata": {}
        }
      ],
      "metadata": {
        "datalore": {
          "node_id": "ojIQqxOz2NEK1chnqdszrx",
          "type": "CODE",
          "hide_input_from_viewers": false,
          "hide_output_from_viewers": false,
          "report_properties": {
            "rowId": "jLq5KQ8c2IwP2qanPb1sr7"
          }
        },
        "colab": {
          "base_uri": "https://localhost:8080/",
          "height": 882
        },
        "id": "nWEAq0fmg-tY",
        "outputId": "0059baa2-7ffa-477c-e980-0cfaa21681d4"
      }
    },
    {
      "cell_type": "markdown",
      "source": [
        "## Modified version"
      ],
      "metadata": {
        "datalore": {
          "node_id": "85Auew5g6rQ2RfZc8MbAaq",
          "type": "MD",
          "hide_input_from_viewers": true,
          "hide_output_from_viewers": true
        },
        "id": "bBhcZ13zg-tZ"
      }
    },
    {
      "cell_type": "code",
      "source": [
        "class SimpleGAExperiment:\n",
        "    def factory(self):\n",
        "        \"\"\"Returns random array in the half-open interval [-5, 5)\"\"\"\n",
        "        return rnd.random(self.dimension) * 10 - 5\n",
        "\n",
        "    def __init__(self, function, dimension, pop_size, iterations):\n",
        "        self.pop_size = pop_size\n",
        "        self.iterations = iterations\n",
        "        self.mut_prob = 0.9\n",
        "        self.cross_prob = 0.1\n",
        "\n",
        "        self.function = function\n",
        "        self.dimension = dimension\n",
        "\n",
        "        # concurrency\n",
        "        self.pool = Pool(8)\n",
        "\n",
        "        self.toolbox = base.Toolbox()\n",
        "        self.toolbox.register(\"map\", self.pool.map)\n",
        "        self.toolbox.register(\"individual\", tools.initIterate,\n",
        "                              creator.Individual, self.factory)\n",
        "        self.toolbox.register(\"population\", tools.initRepeat, list,\n",
        "                              self.toolbox.individual, self.pop_size)\n",
        "\n",
        "        self.toolbox.register(\"mate\", tools.cxOnePoint)\n",
        "        self.toolbox.register(\"mutate\", tools.mutGaussian,\n",
        "                              mu=1, sigma=1.5, indpb=0.02)\n",
        "        self.toolbox.register(\"select\", tools.selTournament, tournsize=4)\n",
        "        self.toolbox.register(\"evaluate\", self.function)\n",
        "\n",
        "\n",
        "    def run(self):\n",
        "        pop = self.toolbox.population()\n",
        "        hof = tools.HallOfFame(3, np.array_equal)\n",
        "\n",
        "        stats = tools.Statistics(lambda ind: ind.fitness.values[0])\n",
        "        stats.register(\"avg\", np.mean)\n",
        "        stats.register(\"std\", np.std)\n",
        "        stats.register(\"min\", np.min)\n",
        "        stats.register(\"max\", np.max)\n",
        "\n",
        "        pop, log = algorithms.eaMuPlusLambda(\n",
        "            pop,\n",
        "            self.toolbox,\n",
        "            mu=self.pop_size,\n",
        "            lambda_=int(self.pop_size*0.8),\n",
        "            cxpb=self.cross_prob,\n",
        "            mutpb=self.mut_prob,\n",
        "            ngen=self.iterations,\n",
        "            stats=stats,\n",
        "            halloffame=hof,\n",
        "            verbose=False,\n",
        "        )\n",
        "\n",
        "        print(\"Best = {}\".format(hof[0]))\n",
        "        print(\"Best fit = {}\".format(hof[0].fitness.values[0]))\n",
        "        return log"
      ],
      "execution_count": 43,
      "outputs": [],
      "metadata": {
        "datalore": {
          "node_id": "oTblVjKvnJ9NwYMoKy9hat",
          "type": "CODE",
          "hide_input_from_viewers": true,
          "hide_output_from_viewers": true
        },
        "id": "5_Q8z7KQg-tZ"
      }
    },
    {
      "cell_type": "code",
      "source": [
        "def function(x):\n",
        "    res = rastrigin(x)\n",
        "    return res,\n",
        "\n",
        "dimension = 100\n",
        "pop_size = 100\n",
        "iterations = 5000\n",
        "scenario = SimpleGAExperiment(function, dimension, pop_size, iterations)"
      ],
      "execution_count": 46,
      "outputs": [],
      "metadata": {
        "datalore": {
          "node_id": "I6btU9TuWUkbwYQCllN0Bh",
          "type": "CODE",
          "hide_input_from_viewers": true,
          "hide_output_from_viewers": true
        },
        "id": "ZvAjOJMWg-ta"
      }
    },
    {
      "cell_type": "code",
      "source": [
        "log = scenario.run()\n",
        "draw_log(log)"
      ],
      "metadata": {
        "colab": {
          "base_uri": "https://localhost:8080/",
          "height": 743
        },
        "id": "cYA7cpYtqfio",
        "outputId": "32707ee0-0078-463c-913d-775cc40bfcc6"
      },
      "execution_count": 47,
      "outputs": [
        {
          "output_type": "stream",
          "name": "stdout",
          "text": [
            "Best = [-0.3788902  -0.88244407 -0.2849722  -0.4232657  -0.46186159 -0.15613612\n",
            "  0.00318613 -0.42143888 -0.72240449 -0.94504182 -0.50363219 -0.20832895\n",
            " -0.3716518  -0.7758955  -0.64662602 -0.04311711 -0.7861948  -0.25077826\n",
            " -0.54075887 -0.14062293 -0.34091688 -0.52807021 -0.96177264 -0.41614323\n",
            " -0.54347658 -0.22844426 -0.51461657 -0.28054187 -0.89262622 -0.62518162\n",
            " -0.2774184  -0.01154425 -0.27755348 -0.14590964 -0.00983728 -0.37911792\n",
            " -0.40727948 -0.00425695 -0.33462889 -0.32121283 -0.69767327 -0.04570379\n",
            " -0.19131626 -0.87225198 -0.69923535 -0.97408819 -0.11893686 -0.198705\n",
            " -0.68925673 -0.99259574 -0.07182452 -0.32622137 -0.35156079 -0.74415758\n",
            " -0.39393186 -0.34992424 -0.72356762 -0.24890591 -0.06926949 -0.22984381\n",
            " -0.21978622 -0.52892824 -0.78041713 -0.66717986 -0.14041539 -0.34620019\n",
            " -0.01772395 -0.83168755 -0.5611972  -0.60174472 -0.15114727 -0.51187455\n",
            " -0.81708677 -0.68465028 -0.07121071 -0.72952233 -0.21137148 -0.62064436\n",
            " -0.94878019 -0.745951   -0.08520515 -0.02183109 -0.81043506 -0.64211224\n",
            " -0.00647182 -0.05535917 -0.91588399 -0.15661162 -0.75343279 -0.62801533\n",
            " -0.36793214 -0.04456161 -0.58826392 -0.55229902 -0.9609737  -0.60535638\n",
            " -0.71704663 -0.89255334 -0.97457553 -0.03521425]\n",
            "Best fit = 9.988416440882377\n"
          ]
        },
        {
          "output_type": "display_data",
          "data": {
            "text/plain": [
              "<Figure size 640x480 with 1 Axes>"
            ],
            "image/png": "[encoded data removed]"
          },
          "metadata": {}
        }
      ]
    },
    {
      "cell_type": "markdown",
      "source": [
        "> Acquired best fit: **9.988**"
      ],
      "metadata": {
        "id": "uWHAcm9Rs1Wp"
      }
    }
  ],
  "metadata": {
    "kernelspec": {
      "display_name": "Python",
      "language": "python",
      "name": "python"
    },
    "datalore": {
      "computation_mode": "JUPYTER",
      "package_manager": "pip",
      "base_environment": "default",
      "packages": [],
      "report_row_ids": [
        "fHXCirpm7HUhRmoIuL9iLb",
        "HTJprdDNMq155rcAWttMpz",
        "P6FS6vWBQRseC7gnMjd1Hu",
        "JoM0jrJjDUZXMgYh9hT3Y2",
        "Kmnj8enyuo3shc2OA8xt7C",
        "pylcNM3QCTgyZ7coJq9HqL",
        "me3jePMfUbup7Rz67RNNGc",
        "fogQ8CwAKNAUVeqobqQpnT",
        "OXYVQxwANrUm9mVlXvXDSh",
        "PWYNtZdWO0aimGgkchIA2V",
        "MKfyVaVaczpO4PoHBqb40N",
        "l0DU7bIRWNZ0Hc4pjVeCTW",
        "jLq5KQ8c2IwP2qanPb1sr7",
        "P6kxgDKZdEidFC58uQoHap"
      ],
      "version": 3
    },
    "colab": {
      "provenance": []
    }
  },
  "nbformat": 4,
  "nbformat_minor": 0
}