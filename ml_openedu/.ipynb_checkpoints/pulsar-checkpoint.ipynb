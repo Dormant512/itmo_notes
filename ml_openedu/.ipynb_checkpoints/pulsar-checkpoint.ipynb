{
 "cells": [
  {
   "cell_type": "markdown",
   "id": "121bc800",
   "metadata": {},
   "source": [
    "# Pulsar"
   ]
  },
  {
   "cell_type": "code",
   "execution_count": 1,
   "id": "d8c52945",
   "metadata": {},
   "outputs": [],
   "source": [
    "import numpy as np\n",
    "import pandas as pd"
   ]
  },
  {
   "cell_type": "code",
   "execution_count": 3,
   "id": "1e90dd57",
   "metadata": {},
   "outputs": [
    {
     "name": "stdout",
     "output_type": "stream",
     "text": [
      "202\n"
     ]
    },
    {
     "data": {
      "text/html": [
       "<div>\n",
       "<style scoped>\n",
       "    .dataframe tbody tr th:only-of-type {\n",
       "        vertical-align: middle;\n",
       "    }\n",
       "\n",
       "    .dataframe tbody tr th {\n",
       "        vertical-align: top;\n",
       "    }\n",
       "\n",
       "    .dataframe thead th {\n",
       "        text-align: right;\n",
       "    }\n",
       "</style>\n",
       "<table border=\"1\" class=\"dataframe\">\n",
       "  <thead>\n",
       "    <tr style=\"text-align: right;\">\n",
       "      <th></th>\n",
       "      <th>mip</th>\n",
       "      <th>stdip</th>\n",
       "      <th>ekip</th>\n",
       "      <th>sip</th>\n",
       "      <th>mc</th>\n",
       "      <th>stdc</th>\n",
       "      <th>ekc</th>\n",
       "      <th>sc</th>\n",
       "      <th>target</th>\n",
       "    </tr>\n",
       "  </thead>\n",
       "  <tbody>\n",
       "    <tr>\n",
       "      <th>0</th>\n",
       "      <td>85.523438</td>\n",
       "      <td>36.694040</td>\n",
       "      <td>0.733149</td>\n",
       "      <td>2.476574</td>\n",
       "      <td>1.957358</td>\n",
       "      <td>18.373467</td>\n",
       "      <td>10.403406</td>\n",
       "      <td>114.392908</td>\n",
       "      <td>0</td>\n",
       "    </tr>\n",
       "    <tr>\n",
       "      <th>1</th>\n",
       "      <td>84.804688</td>\n",
       "      <td>42.764263</td>\n",
       "      <td>0.737207</td>\n",
       "      <td>1.028280</td>\n",
       "      <td>1.005853</td>\n",
       "      <td>12.100228</td>\n",
       "      <td>15.973736</td>\n",
       "      <td>291.146142</td>\n",
       "      <td>0</td>\n",
       "    </tr>\n",
       "    <tr>\n",
       "      <th>2</th>\n",
       "      <td>84.742188</td>\n",
       "      <td>40.007274</td>\n",
       "      <td>1.368957</td>\n",
       "      <td>3.812073</td>\n",
       "      <td>5.736622</td>\n",
       "      <td>32.047311</td>\n",
       "      <td>5.979603</td>\n",
       "      <td>36.147975</td>\n",
       "      <td>1</td>\n",
       "    </tr>\n",
       "    <tr>\n",
       "      <th>3</th>\n",
       "      <td>91.828125</td>\n",
       "      <td>34.111744</td>\n",
       "      <td>1.446682</td>\n",
       "      <td>5.265289</td>\n",
       "      <td>3.741639</td>\n",
       "      <td>25.317370</td>\n",
       "      <td>7.235101</td>\n",
       "      <td>53.582074</td>\n",
       "      <td>1</td>\n",
       "    </tr>\n",
       "    <tr>\n",
       "      <th>4</th>\n",
       "      <td>88.437500</td>\n",
       "      <td>37.811777</td>\n",
       "      <td>0.689216</td>\n",
       "      <td>2.035294</td>\n",
       "      <td>2.415552</td>\n",
       "      <td>18.027953</td>\n",
       "      <td>8.828613</td>\n",
       "      <td>86.799894</td>\n",
       "      <td>1</td>\n",
       "    </tr>\n",
       "  </tbody>\n",
       "</table>\n",
       "</div>"
      ],
      "text/plain": [
       "         mip      stdip      ekip       sip        mc       stdc        ekc  \\\n",
       "0  85.523438  36.694040  0.733149  2.476574  1.957358  18.373467  10.403406   \n",
       "1  84.804688  42.764263  0.737207  1.028280  1.005853  12.100228  15.973736   \n",
       "2  84.742188  40.007274  1.368957  3.812073  5.736622  32.047311   5.979603   \n",
       "3  91.828125  34.111744  1.446682  5.265289  3.741639  25.317370   7.235101   \n",
       "4  88.437500  37.811777  0.689216  2.035294  2.415552  18.027953   8.828613   \n",
       "\n",
       "           sc  target  \n",
       "0  114.392908       0  \n",
       "1  291.146142       0  \n",
       "2   36.147975       1  \n",
       "3   53.582074       1  \n",
       "4   86.799894       1  "
      ]
     },
     "execution_count": 3,
     "metadata": {},
     "output_type": "execute_result"
    }
   ],
   "source": [
    "df = pd.read_csv('./pulsar.csv')\n",
    "print(len(df))\n",
    "df.head()"
   ]
  },
  {
   "cell_type": "code",
   "execution_count": 11,
   "id": "b700e44a",
   "metadata": {},
   "outputs": [
    {
     "name": "stdout",
     "output_type": "stream",
     "text": [
      "['mip', 'stdip', 'ekip', 'sip', 'mc', 'stdc', 'ekc', 'sc']\n"
     ]
    },
    {
     "data": {
      "text/html": [
       "<div>\n",
       "<style scoped>\n",
       "    .dataframe tbody tr th:only-of-type {\n",
       "        vertical-align: middle;\n",
       "    }\n",
       "\n",
       "    .dataframe tbody tr th {\n",
       "        vertical-align: top;\n",
       "    }\n",
       "\n",
       "    .dataframe thead th {\n",
       "        text-align: right;\n",
       "    }\n",
       "</style>\n",
       "<table border=\"1\" class=\"dataframe\">\n",
       "  <thead>\n",
       "    <tr style=\"text-align: right;\">\n",
       "      <th></th>\n",
       "      <th>mip</th>\n",
       "      <th>stdip</th>\n",
       "      <th>ekip</th>\n",
       "      <th>sip</th>\n",
       "      <th>mc</th>\n",
       "      <th>stdc</th>\n",
       "      <th>ekc</th>\n",
       "      <th>sc</th>\n",
       "      <th>target</th>\n",
       "    </tr>\n",
       "  </thead>\n",
       "  <tbody>\n",
       "    <tr>\n",
       "      <th>0</th>\n",
       "      <td>0.198230</td>\n",
       "      <td>0.098296</td>\n",
       "      <td>0.178383</td>\n",
       "      <td>0.248432</td>\n",
       "      <td>0.010362</td>\n",
       "      <td>0.106567</td>\n",
       "      <td>0.398322</td>\n",
       "      <td>0.146317</td>\n",
       "      <td>0</td>\n",
       "    </tr>\n",
       "    <tr>\n",
       "      <th>1</th>\n",
       "      <td>0.116814</td>\n",
       "      <td>0.217832</td>\n",
       "      <td>0.180137</td>\n",
       "      <td>0.139098</td>\n",
       "      <td>0.004327</td>\n",
       "      <td>0.040225</td>\n",
       "      <td>0.594042</td>\n",
       "      <td>0.368852</td>\n",
       "      <td>0</td>\n",
       "    </tr>\n",
       "    <tr>\n",
       "      <th>2</th>\n",
       "      <td>0.109735</td>\n",
       "      <td>0.163541</td>\n",
       "      <td>0.453250</td>\n",
       "      <td>0.349251</td>\n",
       "      <td>0.034330</td>\n",
       "      <td>0.251172</td>\n",
       "      <td>0.242886</td>\n",
       "      <td>0.047805</td>\n",
       "      <td>1</td>\n",
       "    </tr>\n",
       "    <tr>\n",
       "      <th>3</th>\n",
       "      <td>0.912389</td>\n",
       "      <td>0.047445</td>\n",
       "      <td>0.486852</td>\n",
       "      <td>0.458957</td>\n",
       "      <td>0.021678</td>\n",
       "      <td>0.180000</td>\n",
       "      <td>0.286999</td>\n",
       "      <td>0.069755</td>\n",
       "      <td>1</td>\n",
       "    </tr>\n",
       "    <tr>\n",
       "      <th>4</th>\n",
       "      <td>0.528319</td>\n",
       "      <td>0.120307</td>\n",
       "      <td>0.159390</td>\n",
       "      <td>0.215119</td>\n",
       "      <td>0.013267</td>\n",
       "      <td>0.102913</td>\n",
       "      <td>0.342990</td>\n",
       "      <td>0.111577</td>\n",
       "      <td>1</td>\n",
       "    </tr>\n",
       "  </tbody>\n",
       "</table>\n",
       "</div>"
      ],
      "text/plain": [
       "        mip     stdip      ekip       sip        mc      stdc       ekc  \\\n",
       "0  0.198230  0.098296  0.178383  0.248432  0.010362  0.106567  0.398322   \n",
       "1  0.116814  0.217832  0.180137  0.139098  0.004327  0.040225  0.594042   \n",
       "2  0.109735  0.163541  0.453250  0.349251  0.034330  0.251172  0.242886   \n",
       "3  0.912389  0.047445  0.486852  0.458957  0.021678  0.180000  0.286999   \n",
       "4  0.528319  0.120307  0.159390  0.215119  0.013267  0.102913  0.342990   \n",
       "\n",
       "         sc  target  \n",
       "0  0.146317       0  \n",
       "1  0.368852       0  \n",
       "2  0.047805       1  \n",
       "3  0.069755       1  \n",
       "4  0.111577       1  "
      ]
     },
     "execution_count": 11,
     "metadata": {},
     "output_type": "execute_result"
    }
   ],
   "source": [
    "ndf = df.copy()\n",
    "pred = list(df.columns)[:-1]\n",
    "print(pred)\n",
    "\n",
    "for col in pred:\n",
    "    cur = ndf[col]\n",
    "    ndf[col] = cur.apply(lambda x: (x - cur.min()) / (cur.max() - cur.min()))\n",
    "    \n",
    "ndf.head()"
   ]
  },
  {
   "cell_type": "code",
   "execution_count": 12,
   "id": "dbc0a80e",
   "metadata": {},
   "outputs": [
    {
     "data": {
      "text/plain": [
       "0.30049066853588013"
      ]
     },
     "execution_count": 12,
     "metadata": {},
     "output_type": "execute_result"
    }
   ],
   "source": [
    "ndf['mip'].mean()"
   ]
  }
 ],
 "metadata": {
  "kernelspec": {
   "display_name": "Python 3 (ipykernel)",
   "language": "python",
   "name": "python3"
  },
  "language_info": {
   "codemirror_mode": {
    "name": "ipython",
    "version": 3
   },
   "file_extension": ".py",
   "mimetype": "text/x-python",
   "name": "python",
   "nbconvert_exporter": "python",
   "pygments_lexer": "ipython3",
   "version": "3.10.6"
  }
 },
 "nbformat": 4,
 "nbformat_minor": 5
}
