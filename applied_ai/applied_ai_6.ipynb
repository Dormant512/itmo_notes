{
 "cells": [
  {
   "cell_type": "markdown",
   "id": "70abd232",
   "metadata": {},
   "source": [
    "# Applied AI 6"
   ]
  },
  {
   "cell_type": "code",
   "execution_count": 1,
   "id": "82efdd96",
   "metadata": {},
   "outputs": [],
   "source": [
    "import numpy as np\n",
    "import pandas as pd"
   ]
  },
  {
   "cell_type": "code",
   "execution_count": 5,
   "id": "ddba43b3",
   "metadata": {},
   "outputs": [
    {
     "name": "stdout",
     "output_type": "stream",
     "text": [
      "85\n"
     ]
    },
    {
     "data": {
      "text/html": [
       "<div>\n",
       "<style scoped>\n",
       "    .dataframe tbody tr th:only-of-type {\n",
       "        vertical-align: middle;\n",
       "    }\n",
       "\n",
       "    .dataframe tbody tr th {\n",
       "        vertical-align: top;\n",
       "    }\n",
       "\n",
       "    .dataframe thead th {\n",
       "        text-align: right;\n",
       "    }\n",
       "</style>\n",
       "<table border=\"1\" class=\"dataframe\">\n",
       "  <thead>\n",
       "    <tr style=\"text-align: right;\">\n",
       "      <th></th>\n",
       "      <th>Region_RU</th>\n",
       "      <th>Region_EN</th>\n",
       "      <th>AVG_Salary</th>\n",
       "      <th>Population</th>\n",
       "    </tr>\n",
       "  </thead>\n",
       "  <tbody>\n",
       "    <tr>\n",
       "      <th>0</th>\n",
       "      <td>Алтайский край</td>\n",
       "      <td>Altai Region</td>\n",
       "      <td>25960</td>\n",
       "      <td>218866</td>\n",
       "    </tr>\n",
       "    <tr>\n",
       "      <th>1</th>\n",
       "      <td>Амурская область</td>\n",
       "      <td>Amur Region</td>\n",
       "      <td>43156</td>\n",
       "      <td>793194</td>\n",
       "    </tr>\n",
       "    <tr>\n",
       "      <th>2</th>\n",
       "      <td>Архангельская область</td>\n",
       "      <td>Arkhangelsk Region</td>\n",
       "      <td>47526</td>\n",
       "      <td>1144119</td>\n",
       "    </tr>\n",
       "    <tr>\n",
       "      <th>3</th>\n",
       "      <td>Астраханская область</td>\n",
       "      <td>Astrakhan Region</td>\n",
       "      <td>32166</td>\n",
       "      <td>1014065</td>\n",
       "    </tr>\n",
       "    <tr>\n",
       "      <th>4</th>\n",
       "      <td>Белгородская область</td>\n",
       "      <td>Belgorod Region</td>\n",
       "      <td>31163</td>\n",
       "      <td>1547418</td>\n",
       "    </tr>\n",
       "  </tbody>\n",
       "</table>\n",
       "</div>"
      ],
      "text/plain": [
       "               Region_RU           Region_EN  AVG_Salary  Population\n",
       "0         Алтайский край        Altai Region       25960      218866\n",
       "1       Амурская область         Amur Region       43156      793194\n",
       "2  Архангельская область  Arkhangelsk Region       47526     1144119\n",
       "3   Астраханская область    Astrakhan Region       32166     1014065\n",
       "4   Белгородская область     Belgorod Region       31163     1547418"
      ]
     },
     "execution_count": 5,
     "metadata": {},
     "output_type": "execute_result"
    }
   ],
   "source": [
    "df = pd.read_csv(\"./salary_and_population.csv\").drop('Unnamed: 4', axis=1)\n",
    "print(len(df))\n",
    "df.head()"
   ]
  },
  {
   "cell_type": "code",
   "execution_count": 7,
   "id": "15c7a996",
   "metadata": {},
   "outputs": [
    {
     "name": "stdout",
     "output_type": "stream",
     "text": [
      "82\n"
     ]
    },
    {
     "data": {
      "text/html": [
       "<div>\n",
       "<style scoped>\n",
       "    .dataframe tbody tr th:only-of-type {\n",
       "        vertical-align: middle;\n",
       "    }\n",
       "\n",
       "    .dataframe tbody tr th {\n",
       "        vertical-align: top;\n",
       "    }\n",
       "\n",
       "    .dataframe thead th {\n",
       "        text-align: right;\n",
       "    }\n",
       "</style>\n",
       "<table border=\"1\" class=\"dataframe\">\n",
       "  <thead>\n",
       "    <tr style=\"text-align: right;\">\n",
       "      <th></th>\n",
       "      <th>Region_RU</th>\n",
       "      <th>Region_EN</th>\n",
       "      <th>AVG_Salary</th>\n",
       "      <th>Population</th>\n",
       "    </tr>\n",
       "  </thead>\n",
       "  <tbody>\n",
       "    <tr>\n",
       "      <th>0</th>\n",
       "      <td>Алтайский край</td>\n",
       "      <td>Altai Region</td>\n",
       "      <td>25960</td>\n",
       "      <td>218866</td>\n",
       "    </tr>\n",
       "    <tr>\n",
       "      <th>1</th>\n",
       "      <td>Амурская область</td>\n",
       "      <td>Amur Region</td>\n",
       "      <td>43156</td>\n",
       "      <td>793194</td>\n",
       "    </tr>\n",
       "    <tr>\n",
       "      <th>2</th>\n",
       "      <td>Архангельская область</td>\n",
       "      <td>Arkhangelsk Region</td>\n",
       "      <td>47526</td>\n",
       "      <td>1144119</td>\n",
       "    </tr>\n",
       "    <tr>\n",
       "      <th>3</th>\n",
       "      <td>Астраханская область</td>\n",
       "      <td>Astrakhan Region</td>\n",
       "      <td>32166</td>\n",
       "      <td>1014065</td>\n",
       "    </tr>\n",
       "    <tr>\n",
       "      <th>4</th>\n",
       "      <td>Белгородская область</td>\n",
       "      <td>Belgorod Region</td>\n",
       "      <td>31163</td>\n",
       "      <td>1547418</td>\n",
       "    </tr>\n",
       "  </tbody>\n",
       "</table>\n",
       "</div>"
      ],
      "text/plain": [
       "               Region_RU           Region_EN  AVG_Salary  Population\n",
       "0         Алтайский край        Altai Region       25960      218866\n",
       "1       Амурская область         Amur Region       43156      793194\n",
       "2  Архангельская область  Arkhangelsk Region       47526     1144119\n",
       "3   Астраханская область    Astrakhan Region       32166     1014065\n",
       "4   Белгородская область     Belgorod Region       31163     1547418"
      ]
     },
     "execution_count": 7,
     "metadata": {},
     "output_type": "execute_result"
    }
   ],
   "source": [
    "skip_reg = ['Magadan Region', 'St Petersburg', 'Tula Region']\n",
    "\n",
    "for item in skip_reg:\n",
    "    df = df[df['Region_EN'] != item]\n",
    "\n",
    "print(len(df))\n",
    "df.head()"
   ]
  },
  {
   "cell_type": "code",
   "execution_count": 8,
   "id": "60be0973",
   "metadata": {},
   "outputs": [
    {
     "data": {
      "text/plain": [
       "37887.78048780488"
      ]
     },
     "execution_count": 8,
     "metadata": {},
     "output_type": "execute_result"
    }
   ],
   "source": [
    "df['AVG_Salary'].mean()"
   ]
  },
  {
   "cell_type": "code",
   "execution_count": 9,
   "id": "ed715a36",
   "metadata": {},
   "outputs": [
    {
     "data": {
      "text/plain": [
       "32319.5"
      ]
     },
     "execution_count": 9,
     "metadata": {},
     "output_type": "execute_result"
    }
   ],
   "source": [
    "df['AVG_Salary'].median()"
   ]
  },
  {
   "cell_type": "code",
   "execution_count": 10,
   "id": "393db624",
   "metadata": {},
   "outputs": [
    {
     "data": {
      "text/plain": [
       "223577820.31766802"
      ]
     },
     "execution_count": 10,
     "metadata": {},
     "output_type": "execute_result"
    }
   ],
   "source": [
    "df['AVG_Salary'].var(ddof = 0)"
   ]
  },
  {
   "cell_type": "code",
   "execution_count": 11,
   "id": "624d7a17",
   "metadata": {},
   "outputs": [
    {
     "data": {
      "text/plain": [
       "14952.518861973324"
      ]
     },
     "execution_count": 11,
     "metadata": {},
     "output_type": "execute_result"
    }
   ],
   "source": [
    "df['AVG_Salary'].std(ddof = 0)"
   ]
  }
 ],
 "metadata": {
  "kernelspec": {
   "display_name": "Python 3 (ipykernel)",
   "language": "python",
   "name": "python3"
  },
  "language_info": {
   "codemirror_mode": {
    "name": "ipython",
    "version": 3
   },
   "file_extension": ".py",
   "mimetype": "text/x-python",
   "name": "python",
   "nbconvert_exporter": "python",
   "pygments_lexer": "ipython3",
   "version": "3.9.13"
  }
 },
 "nbformat": 4,
 "nbformat_minor": 5
}
