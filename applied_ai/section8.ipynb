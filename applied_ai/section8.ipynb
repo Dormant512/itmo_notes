{
 "cells": [
  {
   "cell_type": "code",
   "execution_count": 1,
   "id": "68d40ccf",
   "metadata": {},
   "outputs": [],
   "source": [
    "import numpy as np\n",
    "import pandas as pd\n",
    "from sklearn.neighbors import KNeighborsClassifier"
   ]
  },
  {
   "cell_type": "code",
   "execution_count": 2,
   "id": "30a23a5a",
   "metadata": {},
   "outputs": [
    {
     "data": {
      "text/html": [
       "<div>\n",
       "<style scoped>\n",
       "    .dataframe tbody tr th:only-of-type {\n",
       "        vertical-align: middle;\n",
       "    }\n",
       "\n",
       "    .dataframe tbody tr th {\n",
       "        vertical-align: top;\n",
       "    }\n",
       "\n",
       "    .dataframe thead th {\n",
       "        text-align: right;\n",
       "    }\n",
       "</style>\n",
       "<table border=\"1\" class=\"dataframe\">\n",
       "  <thead>\n",
       "    <tr style=\"text-align: right;\">\n",
       "      <th></th>\n",
       "      <th>id</th>\n",
       "      <th>X</th>\n",
       "      <th>Y</th>\n",
       "      <th>Class</th>\n",
       "    </tr>\n",
       "  </thead>\n",
       "  <tbody>\n",
       "    <tr>\n",
       "      <th>0</th>\n",
       "      <td>1</td>\n",
       "      <td>56</td>\n",
       "      <td>82</td>\n",
       "      <td>1</td>\n",
       "    </tr>\n",
       "    <tr>\n",
       "      <th>1</th>\n",
       "      <td>2</td>\n",
       "      <td>96</td>\n",
       "      <td>36</td>\n",
       "      <td>0</td>\n",
       "    </tr>\n",
       "    <tr>\n",
       "      <th>2</th>\n",
       "      <td>3</td>\n",
       "      <td>78</td>\n",
       "      <td>73</td>\n",
       "      <td>1</td>\n",
       "    </tr>\n",
       "    <tr>\n",
       "      <th>3</th>\n",
       "      <td>4</td>\n",
       "      <td>69</td>\n",
       "      <td>19</td>\n",
       "      <td>1</td>\n",
       "    </tr>\n",
       "    <tr>\n",
       "      <th>4</th>\n",
       "      <td>5</td>\n",
       "      <td>12</td>\n",
       "      <td>44</td>\n",
       "      <td>1</td>\n",
       "    </tr>\n",
       "  </tbody>\n",
       "</table>\n",
       "</div>"
      ],
      "text/plain": [
       "   id   X   Y  Class\n",
       "0   1  56  82      1\n",
       "1   2  96  36      0\n",
       "2   3  78  73      1\n",
       "3   4  69  19      1\n",
       "4   5  12  44      1"
      ]
     },
     "execution_count": 2,
     "metadata": {},
     "output_type": "execute_result"
    }
   ],
   "source": [
    "synth_df = pd.read_csv('./synthetic_knn.csv')\n",
    "synth_df.head()"
   ]
  },
  {
   "cell_type": "code",
   "execution_count": 23,
   "id": "863bba75",
   "metadata": {},
   "outputs": [],
   "source": [
    "Xs = synth_df['X']\n",
    "Ys = synth_df['Y']\n",
    "X = []\n",
    "\n",
    "for i in range(len(Xs)):\n",
    "    X.append((Xs[i], Ys[i]))\n",
    "    \n",
    "X = np.array(X)\n",
    "Y = np.array(synth_df['Class'])"
   ]
  },
  {
   "cell_type": "code",
   "execution_count": 24,
   "id": "b9b35b59",
   "metadata": {},
   "outputs": [
    {
     "data": {
      "text/plain": [
       "(array([[11.18033989, 29.42787794, 40.80441153]]), array([[9, 8, 0]]))"
      ]
     },
     "execution_count": 24,
     "metadata": {},
     "output_type": "execute_result"
    }
   ],
   "source": [
    "point = np.array([(17, 94)])\n",
    "\n",
    "neigh = KNeighborsClassifier(n_neighbors=1, metric='euclidean').fit(X, Y)\n",
    "neigh.kneighbors(X=point, n_neighbors=3)"
   ]
  },
  {
   "cell_type": "code",
   "execution_count": 30,
   "id": "2bae4610",
   "metadata": {},
   "outputs": [
    {
     "data": {
      "text/plain": [
       "array([1])"
      ]
     },
     "execution_count": 30,
     "metadata": {},
     "output_type": "execute_result"
    }
   ],
   "source": [
    "neigh = KNeighborsClassifier(n_neighbors=3, metric='euclidean').fit(X, Y)\n",
    "neigh.predict(point)"
   ]
  },
  {
   "cell_type": "code",
   "execution_count": 26,
   "id": "478ba77d",
   "metadata": {},
   "outputs": [
    {
     "data": {
      "text/plain": [
       "(array([[13.]]), array([[9]]))"
      ]
     },
     "execution_count": 26,
     "metadata": {},
     "output_type": "execute_result"
    }
   ],
   "source": [
    "neigh = KNeighborsClassifier(n_neighbors=1, metric='manhattan').fit(X, Y)\n",
    "neigh.kneighbors(X=point)"
   ]
  },
  {
   "cell_type": "code",
   "execution_count": 27,
   "id": "db577a13",
   "metadata": {},
   "outputs": [
    {
     "data": {
      "text/plain": [
       "(array([[13., 34., 51.]]), array([[9, 8, 0]]))"
      ]
     },
     "execution_count": 27,
     "metadata": {},
     "output_type": "execute_result"
    }
   ],
   "source": [
    "neigh.kneighbors(X=point, n_neighbors=3)"
   ]
  },
  {
   "cell_type": "code",
   "execution_count": 29,
   "id": "97389ee2",
   "metadata": {},
   "outputs": [
    {
     "data": {
      "text/plain": [
       "array([1])"
      ]
     },
     "execution_count": 29,
     "metadata": {},
     "output_type": "execute_result"
    }
   ],
   "source": [
    "neigh = KNeighborsClassifier(n_neighbors=3, metric='manhattan').fit(X, Y)\n",
    "neigh.predict(point)"
   ]
  }
 ],
 "metadata": {
  "kernelspec": {
   "display_name": "Python 3 (ipykernel)",
   "language": "python",
   "name": "python3"
  },
  "language_info": {
   "codemirror_mode": {
    "name": "ipython",
    "version": 3
   },
   "file_extension": ".py",
   "mimetype": "text/x-python",
   "name": "python",
   "nbconvert_exporter": "python",
   "pygments_lexer": "ipython3",
   "version": "3.10.4"
  }
 },
 "nbformat": 4,
 "nbformat_minor": 5
}
