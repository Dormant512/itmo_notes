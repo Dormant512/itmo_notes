{
 "cells": [
  {
   "cell_type": "code",
   "execution_count": 4,
   "id": "d535dadf",
   "metadata": {},
   "outputs": [],
   "source": [
    "import numpy as np\n",
    "import pandas as pd\n",
    "import matplotlib.pyplot as plt\n",
    "import cv2\n",
    "from sklearn.svm import LinearSVC\n",
    "from os import listdir\n",
    "from os.path import isfile, join"
   ]
  },
  {
   "cell_type": "code",
   "execution_count": 5,
   "id": "415e952e",
   "metadata": {},
   "outputs": [],
   "source": [
    "def extract_histogram(image, bins=(8, 8, 8)):\n",
    "    hist = cv2.calcHist([image], [0, 1, 2], None, bins, [0, 256, 0, 256, 0, 256])\n",
    "    cv2.normalize(hist, hist)\n",
    "    return hist.flatten()"
   ]
  },
  {
   "cell_type": "code",
   "execution_count": 12,
   "id": "d3041c1c",
   "metadata": {},
   "outputs": [],
   "source": [
    "train_files = sorted([f'./train/{f}' for f in listdir('./train') if f[0] != '.' and isfile(join('./train', f))])"
   ]
  },
  {
   "cell_type": "code",
   "execution_count": 16,
   "id": "0376294e",
   "metadata": {},
   "outputs": [],
   "source": [
    "trainX = [extract_histogram(cv2.imread(item)) for item in train_files]\n",
    "trainY = [1 if item.split('/')[-1][0] == 'c' else 0 for item in train_files]\n",
    "# 1 cat, 0 dog"
   ]
  },
  {
   "cell_type": "code",
   "execution_count": 18,
   "id": "349e0436",
   "metadata": {},
   "outputs": [
    {
     "data": {
      "text/plain": [
       "1"
      ]
     },
     "execution_count": 18,
     "metadata": {},
     "output_type": "execute_result"
    }
   ],
   "source": []
  }
 ],
 "metadata": {
  "kernelspec": {
   "display_name": "Python 3 (ipykernel)",
   "language": "python",
   "name": "python3"
  },
  "language_info": {
   "codemirror_mode": {
    "name": "ipython",
    "version": 3
   },
   "file_extension": ".py",
   "mimetype": "text/x-python",
   "name": "python",
   "nbconvert_exporter": "python",
   "pygments_lexer": "ipython3",
   "version": "3.10.6"
  }
 },
 "nbformat": 4,
 "nbformat_minor": 5
}
